{
 "cells": [
  {
   "cell_type": "code",
   "execution_count": null,
   "metadata": {},
   "outputs": [],
   "source": [
    "\"\"\"\n",
    "This script unpacks the 4-dimensional data from the ROOT file to a pickled pandas dataframe\n",
    "\n",
    "See (eventually) process_ROOT_27D for the 27-dimensional equivalent. \n",
    "\"\"\"\n",
    "\n",
    "import pandas as pd\n",
    "import uproot\n",
    "\n",
    "\n",
    "ROOTFilePath = ''\n",
    "\n",
    "ttree = uproot.open(ROOTFilePath)['outTree']['nominal']\n",
    "\n",
    "#Specifies the dataset. The available 'columns' can be read with ttree.keys()\n",
    "branchnames = ['nAntiKt4EMTopoJets_Calib2018',\n",
    "               'AntiKt4EMTopoJets_Calib2018_E',\n",
    "               'AntiKt4EMTopoJets_Calib2018_pt',\n",
    "               'AntiKt4EMTopoJets_Calib2018_phi',\n",
    "               'AntiKt4EMTopoJets_Calib2018_eta']\n",
    "\n",
    "#The intuitive way of reading the tree, but the quickest? \n",
    "jaggedE = ttree.array(branchnames[1])\n",
    "jaggedpT = ttree.array(branchnames[2])\n",
    "jaggedphi = ttree.array(branchnames[3])\n",
    "jaggedeta = ttree.array(branchnames[4])\n",
    "\n",
    "e_list = []\n",
    "pt_list = []\n",
    "eta_list = []\n",
    "phi_list = []\n",
    "for ii, arr in enumerate(jaggedE):\n",
    "    for kk, val in enumerate(arr):\n",
    "        e_list.append(val)\n",
    "        pt_list.append(jaggedpT[ii][kk])\n",
    "        eta_list.append(jaggedeta[ii][kk])\n",
    "        phi_list.append(jaggedphi[ii][kk])\n",
    "\n",
    "\n",
    "all_e = np.array(e_list)\n",
    "all_pt = np.array(pt_list)\n",
    "all_eta = np.array(eta_list)\n",
    "all_phi = np.array(phi_list)\n",
    "\n",
    "#Creates the pandas dataframe. Explore with. df.head()\n",
    "df = pd.DataFrame(data = {'jet pT': all_pt, 'jet eta': all_eta, 'jet phi': all_phi, 'jet E': all_e})\n",
    "\n",
    "train, test = train_test_split(df, test_size=0.2, random_state=41)\n",
    "\n",
    "processed_folder = 'processed_data/'\n",
    "train_filename = 'all_jets_train.pkl'\n",
    "test_filename = 'all_jets_test.pkl'\n",
    "\n",
    "# Save train and test sets\n",
    "train.to_pickle(processed_folder + train_filename)\n",
    "test.to_pickle(processed_folder + test_filename)"
   ]
  }
 ],
 "metadata": {
  "kernelspec": {
   "display_name": "Python 3",
   "language": "python",
   "name": "python3"
  },
  "language_info": {
   "codemirror_mode": {
    "name": "ipython",
    "version": 3
   },
   "file_extension": ".py",
   "mimetype": "text/x-python",
   "name": "python",
   "nbconvert_exporter": "python",
   "pygments_lexer": "ipython3",
   "version": "3.7.1"
  }
 },
 "nbformat": 4,
 "nbformat_minor": 2
}
